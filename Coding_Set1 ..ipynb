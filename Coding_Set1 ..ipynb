{
 "cells": [
  {
   "cell_type": "code",
   "execution_count": 15,
   "id": "5fd5c475",
   "metadata": {},
   "outputs": [
    {
     "name": "stdout",
     "output_type": "stream",
     "text": [
      "1\n",
      "2\n",
      "3\n",
      "4\n",
      "5\n"
     ]
    }
   ],
   "source": [
    "# 1.Write a Python program that prints numbers from 1 to 5.\n",
    "# Expected Output:\n",
    "# 1 2 3 4 5\n",
    "\n",
    "for i in range(1,6):\n",
    " print(i)\n",
    "\n",
    "\n"
   ]
  },
  {
   "cell_type": "code",
   "execution_count": 17,
   "id": "3c8bc472",
   "metadata": {},
   "outputs": [
    {
     "name": "stdout",
     "output_type": "stream",
     "text": [
      "2\n",
      "4\n",
      "6\n",
      "8\n",
      "10\n"
     ]
    }
   ],
   "source": [
    "# 2.Write a Python program to print the first 5 even numbers. \n",
    "# Expected Output:\n",
    "# 2 4 6 8 10\n",
    "\n",
    "for i in range(1,11):\n",
    "    if(i % 2 == 0):\n",
    "        print(i)"
   ]
  },
  {
   "cell_type": "code",
   "execution_count": 20,
   "id": "5e7af211",
   "metadata": {},
   "outputs": [
    {
     "name": "stdout",
     "output_type": "stream",
     "text": [
      "55\n"
     ]
    }
   ],
   "source": [
    "# 3.Write a Python program to print the sum of numbers from 1 to 10. \n",
    "# Expected Output:55\n",
    "\n",
    "sum_value = 0\n",
    "for i in range(1,11):\n",
    "    sum_value = sum_value + i\n",
    "print(sum_value)"
   ]
  },
  {
   "cell_type": "code",
   "execution_count": 28,
   "id": "ac09aa1a",
   "metadata": {},
   "outputs": [
    {
     "data": {
      "text/plain": [
       "120"
      ]
     },
     "execution_count": 28,
     "metadata": {},
     "output_type": "execute_result"
    }
   ],
   "source": [
    "# 4.Write a Python function to find the factorial of 5.\n",
    "# Expected Output:\n",
    "# 120\n",
    "\n",
    "def factorialfunc(number):\n",
    "    factorial = 1\n",
    "    for i in range(1,number+1):\n",
    "        factorial = factorial*i\n",
    "    return factorial\n",
    "factorialfunc(5)\n",
    "\n"
   ]
  },
  {
   "cell_type": "code",
   "execution_count": 31,
   "id": "8ab9fc8a",
   "metadata": {},
   "outputs": [
    {
     "name": "stdout",
     "output_type": "stream",
     "text": [
      "The given number 7 is a prime number\n"
     ]
    }
   ],
   "source": [
    "# 5.Write a Python program to check if a number is prime.\n",
    "# Expected Output (for input 7):\n",
    "# 7 is a prime number\n",
    "\n",
    "def primenumber(number):\n",
    "    if number <= 1:\n",
    "        return False\n",
    "    for i in range(2, int(number ** 0.5) + 1):\n",
    "        if number % i == 0:\n",
    "            return False\n",
    "    return True\n",
    "\n",
    "if primenumber(7):\n",
    "    print(f\"The given number {number} is a prime number\")\n",
    "else:\n",
    "    print(f\"The given number {number} is not a prime number\")\n",
    "\n"
   ]
  },
  {
   "cell_type": "code",
   "execution_count": null,
   "id": "e4f77ac6-149c-4e53-b543-bd73b0f79366",
   "metadata": {},
   "outputs": [],
   "source": []
  }
 ],
 "metadata": {
  "kernelspec": {
   "display_name": "Python [conda env:base] *",
   "language": "python",
   "name": "conda-base-py"
  },
  "language_info": {
   "codemirror_mode": {
    "name": "ipython",
    "version": 3
   },
   "file_extension": ".py",
   "mimetype": "text/x-python",
   "name": "python",
   "nbconvert_exporter": "python",
   "pygments_lexer": "ipython3",
   "version": "3.13.5"
  }
 },
 "nbformat": 4,
 "nbformat_minor": 5
}
