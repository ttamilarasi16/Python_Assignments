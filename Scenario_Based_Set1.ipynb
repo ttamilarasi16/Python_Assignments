{
 "cells": [
  {
   "cell_type": "code",
   "execution_count": 2,
   "id": "2ce90d14-d8dd-4a09-b617-6e065e015c02",
   "metadata": {},
   "outputs": [
    {
     "name": "stdin",
     "output_type": "stream",
     "text": [
      "Enter your age: 12\n"
     ]
    },
    {
     "name": "stdout",
     "output_type": "stream",
     "text": [
      "You are not Eligible to vote in India\n"
     ]
    }
   ],
   "source": [
    "# 1. Scenario: A system checks if a user is eligible to vote based on their age. \n",
    "# Write logic to ask the user for their age and determine \n",
    "# if they are eligible to vote based on whether they are 18 or older\n",
    "\n",
    "enter_your_age = int(input(\"Enter your age:\"))\n",
    "if(enter_your_age >= 18):\n",
    "    print(\"You are Eligible to vote in India\")\n",
    "else:\n",
    "    print(\"You are not Eligible to vote in India\")\n"
   ]
  },
  {
   "cell_type": "code",
   "execution_count": 10,
   "id": "b96fd125-8ab0-4166-9cac-a950bf2d4b42",
   "metadata": {},
   "outputs": [
    {
     "name": "stdout",
     "output_type": "stream",
     "text": [
      "The largest number in the given list is: 39\n"
     ]
    }
   ],
   "source": [
    "# 2. Scenario: A program processes a list of numbers and needs to find the largest value.\n",
    "# Write logic to identify and return the largest number from a given list.\n",
    "\n",
    "numlist = [12,24,10,39,0,-3,-2]\n",
    "largest_num = numlist[0]\n",
    "for num in numlist:\n",
    "    if (num > largest_num):\n",
    "        largest_num = num\n",
    "print(\"The largest number in the given list is:\", largest_num)"
   ]
  },
  {
   "cell_type": "code",
   "execution_count": 15,
   "id": "dae13548-6e82-4d9d-8d7a-e951538cf79d",
   "metadata": {},
   "outputs": [
    {
     "name": "stdin",
     "output_type": "stream",
     "text": [
      "Enter your salary: 55000\n"
     ]
    },
    {
     "name": "stdout",
     "output_type": "stream",
     "text": [
      " your new salary is :) : 60500\n"
     ]
    }
   ],
   "source": [
    "# 3. Scenario: A company provides employees with a 10% bonus if their salary exceeds $50,000.\n",
    "# Write logic to determine the bonus amount based on the given salary\n",
    "\n",
    "employee_salary = int(input(\"Enter your salary:\"))\n",
    "if (employee_salary >= 50000):\n",
    "    new_employee_salary = int(((10*employee_salary)/100) + employee_salary)\n",
    "    print(\" your new salary is :) :\", new_employee_salary)\n",
    "else:\n",
    "    print(\" Sorry! No salary increment for you :(\")"
   ]
  },
  {
   "cell_type": "code",
   "execution_count": 18,
   "id": "863c7cff-b3e8-47ce-86a7-be13bc184769",
   "metadata": {},
   "outputs": [
    {
     "name": "stdin",
     "output_type": "stream",
     "text": [
      "Enter the number: -5\n"
     ]
    },
    {
     "name": "stdout",
     "output_type": "stream",
     "text": [
      "-5 is odd\n"
     ]
    }
   ],
   "source": [
    "# 4. Scenario: A program evaluates a number to determine if it is even or odd.\n",
    "# Write logic to check whether a given number is even or odd.\n",
    "\n",
    "get_number = int(input(\"Enter the number:\"))\n",
    "if (get_number % 2 == 1):\n",
    "    print(get_number, \"is odd\")\n",
    "else:\n",
    "    print(get_number, \"is even\")"
   ]
  },
  {
   "cell_type": "code",
   "execution_count": 21,
   "id": "b29a4af9-da47-4228-803b-37d3c28ca79b",
   "metadata": {},
   "outputs": [
    {
     "name": "stdin",
     "output_type": "stream",
     "text": [
      "Enter the word or sentence Hi, This is Tamilarasi\n"
     ]
    },
    {
     "name": "stdout",
     "output_type": "stream",
     "text": [
      "isaralimaT si sihT ,iH\n"
     ]
    }
   ],
   "source": [
    "# 5. Scenario: A text-processing tool reverses a given word or sentence for formatting purposes.\n",
    "# Write logic to take a word or sentence as input and produce its reversed version.\n",
    "\n",
    "enter_text = input(\"Enter the word or sentence\")\n",
    "text_list = list(enter_text)\n",
    "reversed_text = ''\n",
    "for char in enter_text:\n",
    "    reversed_text = char + reversed_text\n",
    "print(reversed_text)"
   ]
  },
  {
   "cell_type": "code",
   "execution_count": 29,
   "id": "d2fe40f7-e06f-4157-93d3-d172cbbe900f",
   "metadata": {},
   "outputs": [
    {
     "name": "stdin",
     "output_type": "stream",
     "text": [
      "Enter your sub1 mark: 45\n",
      "Enter your sub2 mark: 56\n",
      "Enter your sub3 mark: 64\n",
      "Enter your sub4 mark: 54\n",
      "Enter your sub5 mark: 39\n"
     ]
    },
    {
     "name": "stdout",
     "output_type": "stream",
     "text": [
      "you are fail\n"
     ]
    }
   ],
   "source": [
    "# 6. Scenario: A grading system determines whether a student has passed or failed based on their score.\n",
    "\n",
    "sub1_mark = int(input(\"Enter your sub1 mark:\"))\n",
    "sub2_mark = int(input(\"Enter your sub2 mark:\"))\n",
    "sub3_mark = int(input(\"Enter your sub3 mark:\"))\n",
    "sub4_mark = int(input(\"Enter your sub4 mark:\"))\n",
    "sub5_mark = int(input(\"Enter your sub5 mark:\"))\n",
    "mark_list = [sub1_mark, sub2_mark, sub3_mark, sub4_mark, sub5_mark]\n",
    "pass_mark = True\n",
    "for mark in mark_list:\n",
    "    if mark < 40:\n",
    "        pass_mark = False\n",
    "        break\n",
    "if pass_mark == True:\n",
    "    print(\"you are pass\")\n",
    "else:\n",
    "    print(\"you are fail\")\n",
    "        "
   ]
  },
  {
   "cell_type": "code",
   "execution_count": 33,
   "id": "c823d228-167a-481c-8729-f5bbff69c48e",
   "metadata": {},
   "outputs": [
    {
     "name": "stdin",
     "output_type": "stream",
     "text": [
      "Enter your order total: 135\n"
     ]
    },
    {
     "name": "stdout",
     "output_type": "stream",
     "text": [
      "yaay! your new total amount after discount is :) : 73\n"
     ]
    }
   ],
   "source": [
    "# 7. Scenario: A retail store offers a 20% discount if a customer’s total order exceeds $100.\n",
    "\n",
    "total_order_amount = int(input(\"Enter your order total:\"))\n",
    "if (total_order_amount >= 100):\n",
    "    new_total_amount = int((100 - (20*total_order_amount)/100))\n",
    "    print(\"yaay! your new total amount after discount is :) :\", new_total_amount)\n",
    "else:\n",
    "    print(\" Sorry! No discount for you :(\")"
   ]
  },
  {
   "cell_type": "code",
   "execution_count": 4,
   "id": "dd967c7f-a5e5-4a05-a46a-11133cd0465b",
   "metadata": {},
   "outputs": [
    {
     "name": "stdin",
     "output_type": "stream",
     "text": [
      "Enter your current account balance: 2000\n",
      "Enter your withdrawl amount: 2000\n"
     ]
    },
    {
     "name": "stdout",
     "output_type": "stream",
     "text": [
      "Your request is processed! \n",
      "your remaining balance is: 0\n"
     ]
    }
   ],
   "source": [
    "# 8. Scenario: A banking system processes withdrawal requests and ensures the user has enough balance.\n",
    "\n",
    "acc_bal = int(input(\"Enter your current account balance:\"))\n",
    "withdraw_amnt = int(input(\"Enter your withdrawl amount:\"))\n",
    "if(withdraw_amnt <= acc_bal):\n",
    "    print(f\"Your request is processed! \\nyour remaining balance is: {acc_bal - withdraw_amnt}\")\n",
    "else:\n",
    "    print(\"Sorry, you have insufficient balance!\")"
   ]
  },
  {
   "cell_type": "code",
   "execution_count": 7,
   "id": "b292dd11-0557-40d5-9b14-d21f2e95ff19",
   "metadata": {},
   "outputs": [
    {
     "name": "stdin",
     "output_type": "stream",
     "text": [
      "Enter the year to find whether it's leap year or not 1000\n"
     ]
    },
    {
     "name": "stdout",
     "output_type": "stream",
     "text": [
      "The given year is leap year\n"
     ]
    }
   ],
   "source": [
    "# 9. Scenario: A calendar system verifies whether a given year is a leap year based on standard leap year rules.\n",
    "\n",
    "year = int(input(\"Enter the year to find whether it's leap year or not\"))\n",
    "if (( year % 4 == 0) or (year % 4 == 0 and year % 100 !=0) or ( year % 4 != 0 and year % 100 != 0 and year % 4 == 0)):\n",
    "    print(\"The given year is leap year\")\n",
    "else:\n",
    "    print(\"The given year is not a leap year\")"
   ]
  },
  {
   "cell_type": "code",
   "execution_count": 15,
   "id": "de745348-fd96-4c22-8393-60f1a33a294e",
   "metadata": {},
   "outputs": [
    {
     "name": "stdout",
     "output_type": "stream",
     "text": [
      "[2, 56, 40, 58]\n"
     ]
    }
   ],
   "source": [
    "# 10. Scenario: A program filters out only even numbers from a given list.\n",
    "\n",
    "numbers = [2,13,56,79,40,69,23,58]\n",
    "even_numbers = []\n",
    "for i in numbers:\n",
    "    if( i % 2 == 0):\n",
    "       even_numbers = even_numbers + [i]\n",
    "print(even_numbers)\n"
   ]
  },
  {
   "cell_type": "code",
   "execution_count": null,
   "id": "63517626-19cd-40a6-ac57-f3d8893d1ea5",
   "metadata": {},
   "outputs": [],
   "source": []
  }
 ],
 "metadata": {
  "kernelspec": {
   "display_name": "Python [conda env:base] *",
   "language": "python",
   "name": "conda-base-py"
  },
  "language_info": {
   "codemirror_mode": {
    "name": "ipython",
    "version": 3
   },
   "file_extension": ".py",
   "mimetype": "text/x-python",
   "name": "python",
   "nbconvert_exporter": "python",
   "pygments_lexer": "ipython3",
   "version": "3.13.5"
  }
 },
 "nbformat": 4,
 "nbformat_minor": 5
}
