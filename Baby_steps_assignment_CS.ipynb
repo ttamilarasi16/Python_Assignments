{
 "cells": [
  {
   "cell_type": "code",
   "execution_count": 6,
   "id": "dbff33b9-43d6-4e9f-aad9-c66192ae6929",
   "metadata": {},
   "outputs": [
    {
     "name": "stdout",
     "output_type": "stream",
     "text": [
      "Num1 = 10\n",
      "Num2 = 30\n",
      "Add = 40\n"
     ]
    }
   ],
   "source": [
    "Num1 = 10\n",
    "Num2 = 30\n",
    "print(f\"Num1 = {Num1}\\nNum2 = {Num2}\\nAdd = {Num1+Num2}\")"
   ]
  },
  {
   "cell_type": "code",
   "execution_count": 23,
   "id": "6dbf4b99-7207-43d4-82dc-5fb579350d31",
   "metadata": {},
   "outputs": [
    {
     "name": "stdin",
     "output_type": "stream",
     "text": [
      "Enter your Weight in Kg 69\n",
      "Enter your Height 160\n",
      "what is your height unit, if metre type m if centimetre type cm cm\n"
     ]
    },
    {
     "name": "stdout",
     "output_type": "stream",
     "text": [
      "your BMI is: 26.953124999999996\n",
      "you are Overweight\n"
     ]
    }
   ],
   "source": [
    "#BMI Calculation\n",
    "\n",
    "Weight = eval(input(\"Enter your Weight in Kg\"))\n",
    "Height = eval(input(\"Enter your Height\"))\n",
    "m_cm = input(\"what is your height unit, if metre type m if centimetre type cm\")\n",
    "if (m_cm == \"cm\"):\n",
    "    Height = Height/100\n",
    "BMI = Weight/(Height*Height)\n",
    "print(\"your BMI is:\",BMI)\n",
    "if (BMI < 18.5):\n",
    "    print (\"you are Underweight\")\n",
    "elif (18.5 <= BMI <= 24.9):\n",
    "    print (\"you are in Optimum Range\")\n",
    "elif (24.9 <= BMI <= 29.9):\n",
    "    print (\"you are Overweight\")\n",
    "elif (29.9 <= BMI <= 34.9):\n",
    "    print (\"you are in Class I Obesity\")\n",
    "elif (34.9 <= BMI <= 39.9):\n",
    "    print (\"you are in Class II Obesity\")\n",
    "else:\n",
    "    print (\"you are in Class III Obesity\")"
   ]
  },
  {
   "cell_type": "code",
   "execution_count": null,
   "id": "08fd3e82-b397-4fd3-9303-5298b8b9f9fa",
   "metadata": {},
   "outputs": [],
   "source": []
  }
 ],
 "metadata": {
  "kernelspec": {
   "display_name": "Python [conda env:base] *",
   "language": "python",
   "name": "conda-base-py"
  },
  "language_info": {
   "codemirror_mode": {
    "name": "ipython",
    "version": 3
   },
   "file_extension": ".py",
   "mimetype": "text/x-python",
   "name": "python",
   "nbconvert_exporter": "python",
   "pygments_lexer": "ipython3",
   "version": "3.13.5"
  }
 },
 "nbformat": 4,
 "nbformat_minor": 5
}
