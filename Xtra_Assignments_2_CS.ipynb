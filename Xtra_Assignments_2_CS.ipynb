{
 "cells": [
  {
   "cell_type": "code",
   "execution_count": 39,
   "id": "967aa464-326f-4ca3-a5e8-7fe0a9a82f52",
   "metadata": {},
   "outputs": [
    {
     "name": "stdout",
     "output_type": "stream",
     "text": [
      "0\n",
      "1\n",
      "2\n",
      "3\n",
      "4\n",
      "5\n",
      "6\n",
      "7\n",
      "8\n",
      "9\n",
      "10\n",
      "11\n",
      "12\n",
      "13\n",
      "14\n",
      "15\n",
      "16\n",
      "17\n",
      "18\n",
      "19\n"
     ]
    }
   ],
   "source": [
    "#range\n",
    "for numbers in range(20):\n",
    "    print(numbers)"
   ]
  },
  {
   "cell_type": "code",
   "execution_count": 16,
   "id": "f331418e-c140-462f-868e-acb97384374a",
   "metadata": {},
   "outputs": [
    {
     "name": "stdout",
     "output_type": "stream",
     "text": [
      "10 11 12 13 14 15 16 17 18 19 "
     ]
    }
   ],
   "source": [
    "#print range from 10 to 20\n",
    "\n",
    "for numbers in range(10,20):\n",
    "    print(numbers, end=' ')"
   ]
  },
  {
   "cell_type": "code",
   "execution_count": 22,
   "id": "ca32a058-384f-4dcd-a25a-5f5caa2570f3",
   "metadata": {},
   "outputs": [
    {
     "name": "stdout",
     "output_type": "stream",
     "text": [
      "[10, 20, 14, 55, 43, 87, 76]\n",
      "Number of items in the list:\n",
      "7\n"
     ]
    }
   ],
   "source": [
    "#print no of items in the list using len\n",
    "\n",
    "List = [10, 20, 14, 55, 43, 87, 76]\n",
    "print(List)\n",
    "print(f'''Number of items in the list:\n",
    "{len(List)}''')"
   ]
  },
  {
   "cell_type": "code",
   "execution_count": 25,
   "id": "f5f80503-6606-464b-a2bb-47291f276149",
   "metadata": {},
   "outputs": [
    {
     "name": "stdout",
     "output_type": "stream",
     "text": [
      "Artificial Intelligence\n",
      "A\n",
      "r\n",
      "t\n",
      "i\n",
      "f\n",
      "i\n",
      "c\n",
      "i\n",
      "a\n",
      "l\n",
      " \n",
      "I\n",
      "n\n",
      "t\n",
      "e\n",
      "l\n",
      "l\n",
      "i\n",
      "g\n",
      "e\n",
      "n\n",
      "c\n",
      "e\n"
     ]
    }
   ],
   "source": [
    "#print the char in given string\n",
    "\n",
    "String = \"Artificial Intelligence\"\n",
    "print (String)\n",
    "for char in String:\n",
    "    print(char)"
   ]
  },
  {
   "cell_type": "code",
   "execution_count": 43,
   "id": "2645259b-8fb8-4edf-ad95-b9bd3a12d302",
   "metadata": {},
   "outputs": [
    {
     "name": "stdout",
     "output_type": "stream",
     "text": [
      "-Your Name-\n",
      "-Your Age-\n",
      "-Your Profession-\n"
     ]
    }
   ],
   "source": [
    "#print the given list\n",
    "\n",
    "str_list = [\"-Your Name-\",\"-Your Age-\",\"-Your Profession-\"]\n",
    "for string in str_list:\n",
    "    print(string)"
   ]
  },
  {
   "cell_type": "code",
   "execution_count": 27,
   "id": "46b8086e-6337-4063-98fc-88812ff07292",
   "metadata": {},
   "outputs": [
    {
     "name": "stdout",
     "output_type": "stream",
     "text": [
      "(1, 'Welcome', 2, 'Hope')\n"
     ]
    }
   ],
   "source": [
    "#tuple1\n",
    "\n",
    "tuple1 = (1, 'Welcome', 2, 'Hope')\n",
    "print(tuple1)"
   ]
  },
  {
   "cell_type": "code",
   "execution_count": 34,
   "id": "9259a571-89df-4b1d-b485-972f07428d7c",
   "metadata": {},
   "outputs": [
    {
     "name": "stdout",
     "output_type": "stream",
     "text": [
      "((0, 1, 2, 3), ('python', 'HOPE'))\n"
     ]
    }
   ],
   "source": [
    "#tuple2\n",
    "\n",
    "tuple2 = ((0, 1, 2, 3), ('python', 'HOPE'))\n",
    "print(tuple2)\n",
    "\n",
    "#list1 = [(0, 1, 2, 3), ('python', 'HOPE')]\n",
    "#print(tuple(list1))"
   ]
  },
  {
   "cell_type": "code",
   "execution_count": 37,
   "id": "063f9610-00b5-4d91-b64c-7edc223bd418",
   "metadata": {},
   "outputs": [
    {
     "name": "stdout",
     "output_type": "stream",
     "text": [
      "(20, 10, 16, 19, 25, 1, 276, 188)\n",
      "19 is odd\n",
      "25 is odd\n",
      "1 is odd\n"
     ]
    }
   ],
   "source": [
    "#print odd numbers\n",
    "\n",
    "num_list = [20, 10, 16, 19, 25, 1, 276, 188]\n",
    "print(tuple(num_list))\n",
    "for num in num_list:\n",
    "    if (num % 2 == 1):\n",
    "        print(num, \"is odd\")"
   ]
  },
  {
   "cell_type": "code",
   "execution_count": 38,
   "id": "312f5f60-f8d6-41c3-b80d-508625707f62",
   "metadata": {},
   "outputs": [
    {
     "name": "stdout",
     "output_type": "stream",
     "text": [
      "(20, 10, 16, 19, 25, 1, 276, 188)\n",
      "20 is even\n",
      "10 is even\n",
      "16 is even\n",
      "276 is even\n",
      "188 is even\n"
     ]
    }
   ],
   "source": [
    "#print even numbers\n",
    "\n",
    "num_list = [20, 10, 16, 19, 25, 1, 276, 188]\n",
    "print(tuple(num_list))\n",
    "for num in num_list:\n",
    "    if (num % 2 == 0):\n",
    "        print(num, \"is even\")"
   ]
  },
  {
   "cell_type": "code",
   "execution_count": null,
   "id": "0e189a19-5a51-4ef3-8bfb-9e446337e8f3",
   "metadata": {},
   "outputs": [],
   "source": []
  }
 ],
 "metadata": {
  "kernelspec": {
   "display_name": "Python [conda env:base] *",
   "language": "python",
   "name": "conda-base-py"
  },
  "language_info": {
   "codemirror_mode": {
    "name": "ipython",
    "version": 3
   },
   "file_extension": ".py",
   "mimetype": "text/x-python",
   "name": "python",
   "nbconvert_exporter": "python",
   "pygments_lexer": "ipython3",
   "version": "3.13.5"
  }
 },
 "nbformat": 4,
 "nbformat_minor": 5
}
