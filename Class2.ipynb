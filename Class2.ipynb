{
 "cells": [
  {
   "cell_type": "code",
   "execution_count": 5,
   "id": "dbc66a62-158a-4d99-b778-c07e641a6f95",
   "metadata": {},
   "outputs": [],
   "source": [
    "from MultipleFunctionsSingleClass import MultipleFunctionsSingleClass\n"
   ]
  },
  {
   "cell_type": "code",
   "execution_count": 3,
   "id": "d82c7172-878d-4234-953d-431c63485ae6",
   "metadata": {},
   "outputs": [
    {
     "name": "stdout",
     "output_type": "stream",
     "text": [
      "Sub-fields in AI are:\n",
      "  Machine Learning\n",
      "  Neural Networks\n",
      "  Vision\n",
      "  Robotics\n",
      "  Speech Processing\n",
      "  Natural Language Processing\n"
     ]
    }
   ],
   "source": [
    "MultipleFunctionsSingleClass.subfields()"
   ]
  },
  {
   "cell_type": "code",
   "execution_count": 4,
   "id": "37e10a0b-9899-457f-97c0-ace17d13f6ff",
   "metadata": {},
   "outputs": [
    {
     "name": "stdin",
     "output_type": "stream",
     "text": [
      "Enter the number to find whether it's odd or even 23456\n"
     ]
    },
    {
     "name": "stdout",
     "output_type": "stream",
     "text": [
      "23456 is Even number\n"
     ]
    }
   ],
   "source": [
    "MultipleFunctionsSingleClass.OddEven()"
   ]
  },
  {
   "cell_type": "code",
   "execution_count": 5,
   "id": "a1d794ae-ebd3-4bd9-81bb-613f3fcb0578",
   "metadata": {},
   "outputs": [
    {
     "name": "stdin",
     "output_type": "stream",
     "text": [
      "Enter your Gender Female\n",
      "Enter your Age 17\n"
     ]
    },
    {
     "name": "stdout",
     "output_type": "stream",
     "text": [
      "You are not Eligible for marriage\n"
     ]
    }
   ],
   "source": [
    "MultipleFunctionsSingleClass.MarriageEligibility()"
   ]
  },
  {
   "cell_type": "code",
   "execution_count": 6,
   "id": "8d7aa53b-20b1-49f6-a3f5-d90f972c7529",
   "metadata": {},
   "outputs": [
    {
     "name": "stdin",
     "output_type": "stream",
     "text": [
      "Enter your Sub1 Mark:  97\n",
      "Enter your Sub2 Mark:  99\n",
      "Enter your Sub3 Mark:  100\n",
      "Enter your Sub4 Mark:  100\n",
      "Enter your Sub5 Mark:  85\n"
     ]
    },
    {
     "name": "stdout",
     "output_type": "stream",
     "text": [
      "subject1 = 97\n",
      "subject2 = 99\n",
      "subject3 = 100\n",
      "subject4 = 100\n",
      "subject5 = 85\n",
      "Total: 481\n",
      "Percentage: 96.2\n"
     ]
    }
   ],
   "source": [
    "MultipleFunctionsSingleClass.percentage()"
   ]
  },
  {
   "cell_type": "code",
   "execution_count": 7,
   "id": "05a11514-6300-4fdd-b1db-c207e219dcc6",
   "metadata": {},
   "outputs": [
    {
     "name": "stdin",
     "output_type": "stream",
     "text": [
      "Enter the Height of the Triangle: 12\n",
      "Enter the Breadth of the Triangle: 13\n"
     ]
    },
    {
     "name": "stdout",
     "output_type": "stream",
     "text": [
      "Formula to find Area of the Triangle: (Height * Breadth) / 2\n",
      "Area of the Triangle:  78.0\n"
     ]
    },
    {
     "name": "stdin",
     "output_type": "stream",
     "text": [
      "Enter the Length1 of the Triangle: 13\n",
      "Enter the Length2 of the Triangle: 14\n",
      "Enter the Length3 of the Triangle: 15\n"
     ]
    },
    {
     "name": "stdout",
     "output_type": "stream",
     "text": [
      "Formula to find Perimeter of the Triangle: Length1 + Length2 + Length3\n",
      "Perimeter of Triangle:  42\n"
     ]
    }
   ],
   "source": [
    "MultipleFunctionsSingleClass.TriangleAreaPerimeter()"
   ]
  },
  {
   "cell_type": "code",
   "execution_count": null,
   "id": "1073f848-4f36-481e-bd15-72188e68a089",
   "metadata": {},
   "outputs": [],
   "source": []
  }
 ],
 "metadata": {
  "kernelspec": {
   "display_name": "Python [conda env:base] *",
   "language": "python",
   "name": "conda-base-py"
  },
  "language_info": {
   "codemirror_mode": {
    "name": "ipython",
    "version": 3
   },
   "file_extension": ".py",
   "mimetype": "text/x-python",
   "name": "python",
   "nbconvert_exporter": "python",
   "pygments_lexer": "ipython3",
   "version": "3.13.5"
  }
 },
 "nbformat": 4,
 "nbformat_minor": 5
}
