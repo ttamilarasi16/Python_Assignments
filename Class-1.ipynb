{
 "cells": [
  {
   "cell_type": "code",
   "execution_count": 5,
   "id": "cf0084d8-ec61-4313-886a-e180e0e1b538",
   "metadata": {},
   "outputs": [
    {
     "name": "stdout",
     "output_type": "stream",
     "text": [
      "Sub-fields in AI are:\n",
      "  Machine Learning\n",
      "  Neural Networks\n",
      "  Vision\n",
      "  Robotics\n",
      "  Speech Processing\n",
      "  Natural Language Processing\n"
     ]
    }
   ],
   "source": [
    "#list out the items given\n",
    "\n",
    "class SubFieldsofAI():\n",
    "    def subfields():\n",
    "        print (\"Sub-fields in AI are:\")\n",
    "        givenlist = ['Machine Learning', 'Neural Networks', 'Vision', 'Robotics', 'Speech Processing', 'Natural Language Processing']\n",
    "        for aisubfields in givenlist:\n",
    "            print( \" \", aisubfields)\n",
    "SubFieldsofAI.subfields()"
   ]
  },
  {
   "cell_type": "code",
   "execution_count": 4,
   "id": "1eab0cbe-9611-406a-b85d-79c3490da719",
   "metadata": {},
   "outputs": [
    {
     "name": "stdin",
     "output_type": "stream",
     "text": [
      "Enter the number to find whether it's odd or even 23456\n"
     ]
    },
    {
     "name": "stdout",
     "output_type": "stream",
     "text": [
      "23456 is Even number\n"
     ]
    }
   ],
   "source": [
    "#find the given number is odd or even\n",
    "\n",
    "class FindOddEven():\n",
    "    def OddEven():\n",
    "        Inputnumber = int(input(\"Enter the number to find whether it's odd or even\"))\n",
    "        if (Inputnumber % 2 == 1):\n",
    "            print(Inputnumber, \"is Odd number\")\n",
    "        else:\n",
    "            print(Inputnumber, \"is Even number\")\n",
    "FindOddEven.OddEven()"
   ]
  },
  {
   "cell_type": "code",
   "execution_count": 13,
   "id": "8ea12abb-c03a-403d-ae73-83c765a4121d",
   "metadata": {},
   "outputs": [
    {
     "name": "stdin",
     "output_type": "stream",
     "text": [
      "Enter your Gender Male\n",
      "Enter your Age 21\n"
     ]
    },
    {
     "name": "stdout",
     "output_type": "stream",
     "text": [
      "You are eligible for marriage\n"
     ]
    }
   ],
   "source": [
    "#MArriage Eligibility\n",
    "\n",
    "InputGender = input(\"Enter your Gender\")\n",
    "Inputage = int(input(\"Enter your Age\"))\n",
    "class FindMarriageEligibility():\n",
    "    def MarriageEligibility():              \n",
    "        if ((InputGender == \"Male\" and Inputage >= 21) or (InputGender == \"Female\" and Inputage >= 18)):\n",
    "            print (\"You are eligible for marriage\")\n",
    "        else:\n",
    "            print (\"You are not Eligible for marriage\")\n",
    "FindMarriageEligibility.MarriageEligibility()\n"
   ]
  },
  {
   "cell_type": "code",
   "execution_count": 15,
   "id": "4cc6f805-350e-4aa5-8e57-9ec649b77d0f",
   "metadata": {},
   "outputs": [
    {
     "name": "stdin",
     "output_type": "stream",
     "text": [
      "Enter your Sub1 Mark 97\n",
      "Enter your Sub2 Mark 85\n",
      "Enter your Sub3 Mark 100\n",
      "Enter your Sub4 Mark 98\n",
      "Enter your Sub5 Mark 99\n"
     ]
    },
    {
     "name": "stdout",
     "output_type": "stream",
     "text": [
      "subject1=97\n",
      "subject2=85\n",
      "subject3=100\n",
      "subject4=98\n",
      "subject5=99\n",
      "Total: 479\n",
      "Percentage: 95.8\n"
     ]
    }
   ],
   "source": [
    "#SSLC Percentage\n",
    "\n",
    "sub1 = int(input(\"Enter your Sub1 Mark\"))\n",
    "sub2 = int(input(\"Enter your Sub2 Mark\"))\n",
    "sub3 = int(input(\"Enter your Sub3 Mark\"))\n",
    "sub4 = int(input(\"Enter your Sub4 Mark\"))\n",
    "sub5 = int(input(\"Enter your Sub5 Mark\"))\n",
    "Subjects = [\"subject1\", \"subject2\", \"subject3\", \"subject4\", \"subject5\"]\n",
    "Marklist = [sub1, sub2, sub3, sub4, sub5]\n",
    "for subject, sub in zip(Subjects, Marklist):\n",
    "    print(f'''{subject}={sub}''')\n",
    "class FindSSLCPercentage():\n",
    "    def percentage():\n",
    "        Totalmarks = sub1+sub2+sub3+sub4+sub5\n",
    "        Percent = Totalmarks/5\n",
    "        print(f'''Total: {Totalmarks}\n",
    "Percentage: {Percent}''')\n",
    "FindSSLCPercentage.percentage()"
   ]
  },
  {
   "cell_type": "code",
   "execution_count": null,
   "id": "2ec3cc67-ef84-449d-a297-ebd9aa525fe8",
   "metadata": {},
   "outputs": [
    {
     "name": "stdin",
     "output_type": "stream",
     "text": [
      "Enter the Height of the Triangle: 12\n",
      "Enter the Breadth of the Triangle: 13\n"
     ]
    },
    {
     "name": "stdout",
     "output_type": "stream",
     "text": [
      "Formula to find Area of the Triangle: (Height * Breadth) / 2\n",
      "Area of the Triangle:  78.0\n"
     ]
    }
   ],
   "source": [
    "#triangle Area Perimeter Calculation\n",
    "\n",
    "class FindTriangleAreaPerimeter():\n",
    "    def TriangleAreaPerimeter():\n",
    "        Height = int(input(\"Enter the Height of the Triangle:\"))\n",
    "        breadth = int(input(\"Enter the Breadth of the Triangle:\"))\n",
    "        print(\"Formula to find Area of the Triangle: (Height * Breadth) / 2\")\n",
    "        print(\"Area of the Triangle: \",(Height * breadth) / 2)\n",
    "        Length1 = int(input(\"Enter the Length1 of the Triangle:\"))\n",
    "        Length2 = int(input(\"Enter the Length2 of the Triangle:\"))\n",
    "        Length3 = int(input(\"Enter the Length3 of the Triangle:\"))\n",
    "        print(\"Formula to find Perimeter of the Triangle: Length1 + Length2 + Length3\")\n",
    "        print(\"Perimeter of Triangle: \",Length1 + Length2 + Length3)\n",
    "FindTriangleAreaPerimeter.TriangleAreaPerimeter()"
   ]
  },
  {
   "cell_type": "code",
   "execution_count": null,
   "id": "e38da020-1cc9-498c-97c3-d688db03485c",
   "metadata": {},
   "outputs": [],
   "source": []
  }
 ],
 "metadata": {
  "kernelspec": {
   "display_name": "Python [conda env:base] *",
   "language": "python",
   "name": "conda-base-py"
  },
  "language_info": {
   "codemirror_mode": {
    "name": "ipython",
    "version": 3
   },
   "file_extension": ".py",
   "mimetype": "text/x-python",
   "name": "python",
   "nbconvert_exporter": "python",
   "pygments_lexer": "ipython3",
   "version": "3.13.5"
  }
 },
 "nbformat": 4,
 "nbformat_minor": 5
}
