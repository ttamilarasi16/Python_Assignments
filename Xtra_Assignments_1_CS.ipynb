{
 "cells": [
  {
   "cell_type": "code",
   "execution_count": 1,
   "id": "ca894563-7dfb-4951-9dc7-1f5c86f98b41",
   "metadata": {},
   "outputs": [
    {
     "name": "stdout",
     "output_type": "stream",
     "text": [
      "HOPE AI\n"
     ]
    }
   ],
   "source": [
    "#print\n",
    "\n",
    "print(\"HOPE AI\")"
   ]
  },
  {
   "cell_type": "code",
   "execution_count": 2,
   "id": "eff47299-e7d2-489a-9012-b165a3bc3157",
   "metadata": {},
   "outputs": [
    {
     "name": "stdin",
     "output_type": "stream",
     "text": [
      "Enter your institute name?: HOPE AI\n"
     ]
    }
   ],
   "source": [
    "#Buy input\n",
    "\n",
    "Institute_name = input(\"Enter your institute name?:\")"
   ]
  },
  {
   "cell_type": "code",
   "execution_count": 3,
   "id": "935373a4-0dbe-4e18-bfc4-6865eb166f25",
   "metadata": {},
   "outputs": [
    {
     "name": "stdin",
     "output_type": "stream",
     "text": [
      "Enter your name: Tamilarasi Thangadurai\n",
      "Enter your age: 27\n",
      "Enter your school name: Sri Ramakrishna\n",
      "Enter your degree?: BE Computer Science\n"
     ]
    }
   ],
   "source": [
    "#Buy inputs\n",
    "\n",
    "name = input(\"Enter your name:\")\n",
    "age = int(input(\"Enter your age:\"))\n",
    "school_name = input(\"Enter your school name:\")\n",
    "degree = input(\"Enter your degree?:\")"
   ]
  },
  {
   "cell_type": "code",
   "execution_count": 4,
   "id": "bc712bf5-eb82-4d10-b7d5-2697b704cfa3",
   "metadata": {},
   "outputs": [
    {
     "name": "stdout",
     "output_type": "stream",
     "text": [
      "a = 43\n",
      "b = 34\n",
      "add = 77\n"
     ]
    }
   ],
   "source": [
    "#Addition\n",
    "\n",
    "a = 43\n",
    "b = 34\n",
    "print(f\"a = {a}\\nb = {b}\\nadd = {a+b}\")"
   ]
  },
  {
   "cell_type": "code",
   "execution_count": 5,
   "id": "42e5dc6a-a98e-4370-837e-f71c2a6ace8d",
   "metadata": {},
   "outputs": [
    {
     "name": "stdout",
     "output_type": "stream",
     "text": [
      "a = 43\n",
      "b = 34\n",
      "sub = 9\n"
     ]
    }
   ],
   "source": [
    "#Subtraction\n",
    "\n",
    "print(f\"a = {a}\\nb = {b}\\nsub = {a-b}\")"
   ]
  },
  {
   "cell_type": "code",
   "execution_count": 6,
   "id": "853a36ad-03b6-4d38-9e16-b89a84f66e12",
   "metadata": {},
   "outputs": [
    {
     "name": "stdout",
     "output_type": "stream",
     "text": [
      "a = 63\n",
      "b = 97\n",
      "Mul = 6111\n"
     ]
    }
   ],
   "source": [
    "#Multiplication\n",
    "\n",
    "a = 63\n",
    "b = 97\n",
    "print(f\"a = {a}\\nb = {b}\\nMul = {a*b}\")"
   ]
  },
  {
   "cell_type": "code",
   "execution_count": 7,
   "id": "9891e798-8bf8-4243-ae85-7b34699ca13b",
   "metadata": {},
   "outputs": [
    {
     "name": "stdout",
     "output_type": "stream",
     "text": [
      "a = 76\n",
      "b = 31\n",
      "Div = 2.4516129032258065\n"
     ]
    }
   ],
   "source": [
    "#Division\n",
    "\n",
    "a = 76\n",
    "b = 31\n",
    "print(f\"a = {a}\\nb = {b}\\nDiv = {a/b}\")"
   ]
  },
  {
   "cell_type": "code",
   "execution_count": 8,
   "id": "fdfe382d-2b88-47a7-a379-1fccfbda0b0b",
   "metadata": {},
   "outputs": [
    {
     "name": "stdout",
     "output_type": "stream",
     "text": [
      "a = 76\n",
      "b = 31\n",
      "Div = 2\n"
     ]
    }
   ],
   "source": [
    "#Floor Division\n",
    "\n",
    "a = 76\n",
    "b = 31\n",
    "print(f\"a = {a}\\nb = {b}\\nDiv = {a//b}\")"
   ]
  },
  {
   "cell_type": "code",
   "execution_count": 9,
   "id": "4ff72eaf-a19d-431d-beee-533f5ac07294",
   "metadata": {},
   "outputs": [
    {
     "name": "stdout",
     "output_type": "stream",
     "text": [
      "a = 76\n",
      "b = 31\n",
      "Div = 14\n"
     ]
    }
   ],
   "source": [
    "#Modulo\n",
    "\n",
    "a = 76\n",
    "b = 31\n",
    "print(f\"a = {a}\\nb = {b}\\nDiv = {a%b}\")"
   ]
  },
  {
   "cell_type": "code",
   "execution_count": 12,
   "id": "b27c23b9-bd7b-4b3b-add9-0a6340493f8a",
   "metadata": {},
   "outputs": [
    {
     "name": "stdout",
     "output_type": "stream",
     "text": [
      "a = 4\n",
      "b = 4\n",
      "Power = 256\n"
     ]
    }
   ],
   "source": [
    "#Division\n",
    "\n",
    "a = 4\n",
    "b = 4\n",
    "print(f\"a = {a}\\nb = {b}\\nPower = {pow(a,b)}\")"
   ]
  },
  {
   "cell_type": "code",
   "execution_count": null,
   "id": "269c1686-ce53-4c41-9844-fffe2040482c",
   "metadata": {},
   "outputs": [],
   "source": []
  }
 ],
 "metadata": {
  "kernelspec": {
   "display_name": "Python [conda env:base] *",
   "language": "python",
   "name": "conda-base-py"
  },
  "language_info": {
   "codemirror_mode": {
    "name": "ipython",
    "version": 3
   },
   "file_extension": ".py",
   "mimetype": "text/x-python",
   "name": "python",
   "nbconvert_exporter": "python",
   "pygments_lexer": "ipython3",
   "version": "3.13.5"
  }
 },
 "nbformat": 4,
 "nbformat_minor": 5
}
